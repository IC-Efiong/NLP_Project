{
 "cells": [
  {
   "cell_type": "code",
   "execution_count": 1,
   "id": "2b06e471-ba98-49a5-8048-dbac55ffa9b7",
   "metadata": {},
   "outputs": [],
   "source": [
    "import pandas as pd\n",
    "from sklearn.feature_extraction.text import TfidfVectorizer\n",
    "from sklearn.cluster import KMeans\n",
    "import re\n",
    "import nltk\n",
    "from nltk.corpus import stopwords\n",
    "from nltk.stem import WordNetLemmatizer\n",
    "import speech_recognition as sr"
   ]
  },
  {
   "cell_type": "code",
   "execution_count": 2,
   "id": "11326b75-3975-4819-ba6f-026a998b1754",
   "metadata": {},
   "outputs": [
    {
     "name": "stderr",
     "output_type": "stream",
     "text": [
      "[nltk_data] Downloading package stopwords to\n",
      "[nltk_data]     C:\\Users\\ICE\\AppData\\Roaming\\nltk_data...\n",
      "[nltk_data]   Package stopwords is already up-to-date!\n",
      "[nltk_data] Downloading package wordnet to\n",
      "[nltk_data]     C:\\Users\\ICE\\AppData\\Roaming\\nltk_data...\n",
      "[nltk_data]   Package wordnet is already up-to-date!\n"
     ]
    }
   ],
   "source": [
    "# Download necessary NLTK data\n",
    "nltk.download('stopwords')\n",
    "nltk.download('wordnet')\n",
    "\n",
    "# Initialize necessary components\n",
    "stop_words = set(stopwords.words('english'))\n",
    "lemmatizer = WordNetLemmatizer()"
   ]
  },
  {
   "cell_type": "code",
   "execution_count": 3,
   "id": "e895f126-49a2-4fdc-b926-fcaf88e66a1d",
   "metadata": {},
   "outputs": [],
   "source": [
    "categories = {\n",
    "    \"Work\": [\"meeting\", \"project\", \"work\", \"deadline\", \"email\", \"client\", \"report\"],\n",
    "    \"Shopping\": [\"buy\", \"purchase\", \"grocery\", \"shopping\", \"order\"],\n",
    "    \"Education\": [\"read\", \"study\", \"course\", \"class\", \"book\", \"learn\", \"education\"],\n",
    "    \"Health\": [\"appointment\", \"doctor\", \"health\", \"medicine\", \"exercise\", \"diet\"],\n",
    "    \"Miscellaneous\": []\n",
    "}"
   ]
  },
  {
   "cell_type": "code",
   "execution_count": 4,
   "id": "7f3e57dd-a53e-435b-9f18-e7ae7d564fe2",
   "metadata": {},
   "outputs": [],
   "source": [
    "# Function to preprocess text\n",
    "def preprocess_text(text):\n",
    "    text = text.lower()\n",
    "    text = re.sub(r'[^a-zA-Z\\s]', '', text)  # Remove non-alphabetic characters\n",
    "    text = re.sub(r'\\s+', ' ', text).strip()  # Replace multiple spaces with a single space\n",
    "    tokens = text.split()\n",
    "    tokens = [lemmatizer.lemmatize(token) for token in tokens if token not in stop_words]\n",
    "    return ' '.join(tokens)  # Use space to join tokens"
   ]
  },
  {
   "cell_type": "code",
   "execution_count": 5,
   "id": "b809865f-b6da-4cbf-93a3-6ddc5b00c38e",
   "metadata": {},
   "outputs": [],
   "source": [
    "# Function to match an idea to the most relevant category\n",
    "def categorize_idea(idea):\n",
    "    for category, keywords in categories.items():\n",
    "        if any(keyword in idea for keyword in keywords):\n",
    "            return category\n",
    "    return \"Miscellaneous\""
   ]
  },
  {
   "cell_type": "code",
   "execution_count": 6,
   "id": "5ee3302d-080b-4483-96b3-3713b7ff0b1d",
   "metadata": {},
   "outputs": [],
   "source": [
    "# Function to add a new category\n",
    "def add_new_category():\n",
    "    category_name = input(\"Enter the name of the new category: \").strip().capitalize()\n",
    "    if category_name in categories:\n",
    "        print(\"This category already exists.\")\n",
    "        return\n",
    "    \n",
    "    keywords = input(\"Enter keywords for this category (comma-separated): \").lower().split(',')\n",
    "    keywords = [keyword.strip() for keyword in keywords]\n",
    "    \n",
    "    categories[category_name] = keywords\n",
    "    print(f\"New category '{category_name}' added successfully.\")"
   ]
  },
  {
   "cell_type": "code",
   "execution_count": 7,
   "id": "e1c3950d-e3f4-4952-ba0b-21c0a7c3fc30",
   "metadata": {},
   "outputs": [],
   "source": [
    "# Text Input Collection\n",
    "def collect_text_input():\n",
    "    idea = input(\"Please enter your idea: \")\n",
    "    return idea"
   ]
  },
  {
   "cell_type": "code",
   "execution_count": 8,
   "id": "abc180a4-08ec-4510-bc09-b2d1364e848d",
   "metadata": {},
   "outputs": [],
   "source": [
    "# Speech Input Collection\n",
    "def collect_speech_input():\n",
    "    recognizer = sr.Recognizer()\n",
    "    with sr.Microphone() as source:\n",
    "        print(\"Please say something...\")\n",
    "        audio = recognizer.listen(source)\n",
    "        try:\n",
    "            idea = recognizer.recognize_google(audio)\n",
    "            print(f\"You said: {idea}\")\n",
    "            return idea\n",
    "        except sr.UnknownValueError:\n",
    "            print(\"Could not understand audio\")\n",
    "            return None\n",
    "        except sr.RequestError:\n",
    "            print(\"Could not request results\")\n",
    "            return None"
   ]
  },
  {
   "cell_type": "code",
   "execution_count": 9,
   "id": "02c3d023-1606-4219-a589-4ecded398e7a",
   "metadata": {},
   "outputs": [],
   "source": [
    "# Storing Ideas in Memory\n",
    "ideas = []\n",
    "\n",
    "def store_idea(idea):\n",
    "    category = categorize_idea(idea)\n",
    "    ideas.append((idea, category))\n",
    "\n",
    "# Display grouped ideas\n",
    "def display_grouped_ideas():\n",
    "    grouped_ideas = {}\n",
    "    for idea, category in ideas:\n",
    "        if category not in grouped_ideas:\n",
    "            grouped_ideas[category] = []\n",
    "        grouped_ideas[category].append(idea)\n",
    "    \n",
    "    for category, group in grouped_ideas.items():\n",
    "        print(f\"{category}:\")\n",
    "        for idea in group:\n",
    "            print(f\" - {idea}\")\n",
    "        print(\"\\n\")\n",
    "    return grouped_ideas"
   ]
  },
  {
   "cell_type": "code",
   "execution_count": 10,
   "id": "108e6f7c-9d16-44a7-b10c-510ace148fcb",
   "metadata": {},
   "outputs": [],
   "source": [
    "# Allow user to reassign ideas\n",
    "def reassign_idea(grouped_ideas):\n",
    "    while True:\n",
    "        prompt = input(\"Do you want to reassign any ideas? (yes/no): \").strip().lower()\n",
    "        if prompt == 'yes':\n",
    "            try:\n",
    "                # Display current groups\n",
    "                display_grouped_ideas()\n",
    "                \n",
    "                # Get user input for reassignment\n",
    "                idea_to_move = input(\"Enter the idea you want to move: \")\n",
    "                from_group = input(\"Enter the current group of the idea: \").strip().capitalize()\n",
    "                to_group = input(\"Enter the new group for the idea: \").strip().capitalize()\n",
    "                \n",
    "                # Validate input\n",
    "                if from_group in grouped_ideas and to_group in grouped_ideas:\n",
    "                    if idea_to_move in grouped_ideas[from_group]:\n",
    "                        # Remove idea from the current group and add to the new group\n",
    "                        grouped_ideas[from_group].remove(idea_to_move)\n",
    "                        grouped_ideas[to_group].append(idea_to_move)\n",
    "                        \n",
    "                        # Update the category in the ideas list\n",
    "                        for i, (idea, category) in enumerate(ideas):\n",
    "                            if idea == idea_to_move:\n",
    "                                ideas[i] = (idea, to_group)\n",
    "                                break\n",
    "                        \n",
    "                        print(\"Idea reassigned successfully.\")\n",
    "                    else:\n",
    "                        print(\"Idea not found in the specified group.\")\n",
    "                else:\n",
    "                    print(\"Invalid group name.\")\n",
    "            except ValueError:\n",
    "                print(\"Invalid input. Please enter valid values.\")\n",
    "            \n",
    "            another = input(\"Do you want to reassign another idea? (yes/no): \").strip().lower()\n",
    "            if another != 'yes':\n",
    "                break\n",
    "        elif prompt == 'no':\n",
    "            break\n",
    "        else:\n",
    "            print(\"Invalid input. Please enter 'yes' or 'no'.\")"
   ]
  },
  {
   "cell_type": "code",
   "execution_count": 13,
   "id": "d7c4a57f-9ec5-41f2-a855-630ba8713776",
   "metadata": {},
   "outputs": [],
   "source": [
    "def group_ideas_kmeans(ideas, n_clusters=5):\n",
    "    # Extract just the idea text from the ideas list\n",
    "    idea_texts = [idea[0] for idea in ideas]\n",
    "    \n",
    "    # Determine the number of clusters based on the number of ideas\n",
    "    n_clusters = min(n_clusters, len(idea_texts))\n",
    "    \n",
    "    if n_clusters == 1:\n",
    "        # If there's only one cluster, return all ideas in a single group\n",
    "        return {0: idea_texts}\n",
    "    \n",
    "    vectorizer = TfidfVectorizer()\n",
    "    X = vectorizer.fit_transform(idea_texts)\n",
    "    kmeans = KMeans(n_clusters=n_clusters)\n",
    "    kmeans.fit(X)\n",
    "    labels = kmeans.labels_\n",
    "    \n",
    "    grouped_ideas = {}\n",
    "    for i, label in enumerate(labels):\n",
    "        if label not in grouped_ideas:\n",
    "            grouped_ideas[label] = []\n",
    "        grouped_ideas[label].append(ideas[i][0])\n",
    "    \n",
    "    return grouped_ideas"
   ]
  },
  {
   "cell_type": "code",
   "execution_count": 14,
   "id": "25647b17-aadd-4c3e-adb4-35fa8f63b9f9",
   "metadata": {},
   "outputs": [
    {
     "name": "stdin",
     "output_type": "stream",
     "text": [
      "Do you want to input text, use the microphone, add a new category, or exit? (text/mic/category/exit):  text\n",
      "Please enter your idea:  Shopping at 2pm\n"
     ]
    },
    {
     "name": "stdout",
     "output_type": "stream",
     "text": [
      "Idea stored.\n"
     ]
    },
    {
     "name": "stdin",
     "output_type": "stream",
     "text": [
      "Do you want to input text, use the microphone, add a new category, or exit? (text/mic/category/exit):  text\n",
      "Please enter your idea:  Meeting with John\n"
     ]
    },
    {
     "name": "stdout",
     "output_type": "stream",
     "text": [
      "Idea stored.\n"
     ]
    },
    {
     "name": "stdin",
     "output_type": "stream",
     "text": [
      "Do you want to input text, use the microphone, add a new category, or exit? (text/mic/category/exit):  exit\n"
     ]
    },
    {
     "name": "stdout",
     "output_type": "stream",
     "text": [
      "\n",
      "Ideas grouped by categories:\n",
      "Work:\n",
      " - meeting john\n",
      " - meeting john\n",
      "\n",
      "\n",
      "Shopping:\n",
      " - shopping pm\n",
      "\n",
      "\n"
     ]
    },
    {
     "name": "stdin",
     "output_type": "stream",
     "text": [
      "Do you want to reassign any ideas? (yes/no):  no\n"
     ]
    },
    {
     "name": "stdout",
     "output_type": "stream",
     "text": [
      "\n",
      "Final grouping by categories:\n",
      "Work:\n",
      " - meeting john\n",
      " - meeting john\n",
      "\n",
      "\n",
      "Shopping:\n",
      " - shopping pm\n",
      "\n",
      "\n",
      "\n",
      "Ideas grouped by K-means clustering:\n",
      "Cluster 1:\n",
      " - meeting john\n",
      " - meeting john\n",
      "\n",
      "\n",
      "Cluster 0:\n",
      " - shopping pm\n",
      "\n",
      "\n"
     ]
    },
    {
     "name": "stderr",
     "output_type": "stream",
     "text": [
      "C:\\Users\\ICE\\anaconda3\\Lib\\site-packages\\sklearn\\base.py:1474: ConvergenceWarning: Number of distinct clusters (2) found smaller than n_clusters (3). Possibly due to duplicate points in X.\n",
      "  return fit_method(estimator, *args, **kwargs)\n"
     ]
    }
   ],
   "source": [
    "# Main function\n",
    "def main():\n",
    "    while True:\n",
    "        mode = input(\"Do you want to input text, use the microphone, add a new category, or exit? (text/mic/category/exit): \")\n",
    "        if mode == 'text':\n",
    "            idea = collect_text_input()\n",
    "            if idea:\n",
    "                preprocessed_idea = preprocess_text(idea)\n",
    "                store_idea(preprocessed_idea)\n",
    "                print(\"Idea stored.\")\n",
    "        elif mode == 'mic':\n",
    "            idea = collect_speech_input()\n",
    "            if idea:\n",
    "                preprocessed_idea = preprocess_text(idea)\n",
    "                store_idea(preprocessed_idea)\n",
    "                print(\"Idea stored.\")\n",
    "        elif mode == 'category':\n",
    "            add_new_category()\n",
    "        elif mode == 'exit':\n",
    "            break\n",
    "        else:\n",
    "            print(\"Invalid input method. Please choose 'text', 'mic', 'category', or 'exit'.\")\n",
    "\n",
    "    if not ideas:\n",
    "        print(\"No ideas were stored. Exiting the program.\")\n",
    "        return\n",
    "\n",
    "    # After collecting ideas, display the grouped ideas\n",
    "    print(\"\\nIdeas grouped by categories:\")\n",
    "    grouped_ideas = display_grouped_ideas()\n",
    "\n",
    "    # Allow user to reassign ideas\n",
    "    reassign_idea(grouped_ideas)\n",
    "    \n",
    "    # Display final grouped ideas\n",
    "    print(\"\\nFinal grouping by categories:\")\n",
    "    display_grouped_ideas()\n",
    "\n",
    "    # Group ideas using K-means clustering\n",
    "    kmeans_grouped_ideas = group_ideas_kmeans(ideas)\n",
    "    \n",
    "    print(\"\\nIdeas grouped by K-means clustering:\")\n",
    "    for cluster, cluster_ideas in kmeans_grouped_ideas.items():\n",
    "        print(f\"Cluster {cluster}:\")\n",
    "        for idea in cluster_ideas:\n",
    "            print(f\" - {idea}\")\n",
    "        print(\"\\n\")\n",
    "\n",
    "if __name__ == \"__main__\":\n",
    "    main()"
   ]
  },
  {
   "cell_type": "code",
   "execution_count": null,
   "id": "a5b85f90-3a2c-49a1-abfc-eab91b5984a9",
   "metadata": {},
   "outputs": [],
   "source": []
  }
 ],
 "metadata": {
  "kernelspec": {
   "display_name": "Python 3 (ipykernel)",
   "language": "python",
   "name": "python3"
  },
  "language_info": {
   "codemirror_mode": {
    "name": "ipython",
    "version": 3
   },
   "file_extension": ".py",
   "mimetype": "text/x-python",
   "name": "python",
   "nbconvert_exporter": "python",
   "pygments_lexer": "ipython3",
   "version": "3.12.4"
  }
 },
 "nbformat": 4,
 "nbformat_minor": 5
}

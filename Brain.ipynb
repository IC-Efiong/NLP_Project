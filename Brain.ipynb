{
 "cells": [
  {
   "cell_type": "code",
   "execution_count": 36,
   "id": "cee32844-d77c-417f-ad59-053d9967546d",
   "metadata": {},
   "outputs": [],
   "source": [
    "import speech_recognition as sr\n",
    "from sklearn.datasets import fetch_20newsgroups\n",
    "import pandas as pd\n",
    "from sklearn.model_selection import train_test_split\n",
    "from sklearn.feature_extraction.text import TfidfVectorizer\n",
    "from nltk.corpus import stopwords\n",
    "from nltk.stem import WordNetLemmatizer\n",
    "import re\n",
    "from sklearn.linear_model import LogisticRegression\n",
    "from sklearn.metrics import accuracy_score, classification_report"
   ]
  },
  {
   "cell_type": "code",
   "execution_count": 37,
   "id": "b754347d-0e2b-4d20-9748-8887d6b2e933",
   "metadata": {},
   "outputs": [],
   "source": [
    "# Fetch dataset\n",
    "newsgroups = fetch_20newsgroups()\n",
    "texts = newsgroups.data\n",
    "categories = newsgroups.target"
   ]
  },
  {
   "cell_type": "code",
   "execution_count": 39,
   "id": "16a77e89-ff5c-44f8-a2e8-b42ebe0278c7",
   "metadata": {},
   "outputs": [],
   "source": [
    "# Create a DataFrame for easy manipulation\n",
    "df_texts = pd.DataFrame({'text': texts, 'category': categories})\n",
    "\n",
    "# Initialize stopwords and lemmatizer\n",
    "stop_words = set(stopwords.words('english'))\n",
    "lemmatizer = WordNetLemmatizer()\n",
    "\n",
    "def preprocess_text(text):\n",
    "    # Normalize text\n",
    "    text = text.lower()\n",
    "    text = re.sub(r'[^\\w\\s]', '', text)\n",
    "    \n",
    "    # Tokenization\n",
    "    tokens = text.split()\n",
    "    \n",
    "    # Remove stopwords and lemmatize\n",
    "    tokens = [lemmatizer.lemmatize(token) for token in tokens if token not in stop_words]\n",
    "    \n",
    "    return ' '.join(tokens)\n",
    "\n",
    "# Apply preprocessing\n",
    "df_texts['cleaned_text'] = df_texts['text'].apply(preprocess_text)\n",
    "\n",
    "# Split data into training and test sets\n",
    "train_texts, test_texts, train_labels, test_labels = train_test_split(\n",
    "    df_texts['cleaned_text'], df_texts['category'], test_size=0.2, random_state=42)\n",
    "\n",
    "# Vectorize the text data\n",
    "vectorizer = TfidfVectorizer()\n",
    "X_train_text = vectorizer.fit_transform(train_texts)\n",
    "X_test_text = vectorizer.transform(test_texts)\n",
    "\n",
    "# Scale the data\n",
    "scaler = StandardScaler(with_mean=False)  # with_mean=False because sparse matrices don't support mean centering\n",
    "X_train_text = scaler.fit_transform(X_train_text)\n",
    "X_test_text = scaler.transform(X_test_text)\n"
   ]
  },
  {
   "cell_type": "code",
   "execution_count": 40,
   "id": "c6ec4f17-98ed-4c51-8d78-99698e2374d0",
   "metadata": {},
   "outputs": [
    {
     "name": "stdout",
     "output_type": "stream",
     "text": [
      "Model Accuracy: 90.46%\n",
      "                          precision    recall  f1-score   support\n",
      "\n",
      "             alt.atheism       0.87      0.93      0.90        97\n",
      "           comp.graphics       0.77      0.80      0.78       104\n",
      " comp.os.ms-windows.misc       0.84      0.83      0.84       115\n",
      "comp.sys.ibm.pc.hardware       0.75      0.80      0.77       123\n",
      "   comp.sys.mac.hardware       0.90      0.90      0.90       126\n",
      "          comp.windows.x       0.90      0.90      0.90       106\n",
      "            misc.forsale       0.81      0.83      0.82       109\n",
      "               rec.autos       0.95      0.89      0.92       139\n",
      "         rec.motorcycles       0.97      0.96      0.96       122\n",
      "      rec.sport.baseball       0.97      0.97      0.97       102\n",
      "        rec.sport.hockey       0.97      0.96      0.97       108\n",
      "               sci.crypt       1.00      0.94      0.97       125\n",
      "         sci.electronics       0.87      0.85      0.86       114\n",
      "                 sci.med       0.97      0.97      0.97       119\n",
      "               sci.space       0.97      0.98      0.97       127\n",
      "  soc.religion.christian       0.90      0.93      0.92       122\n",
      "      talk.politics.guns       0.93      0.94      0.93       121\n",
      "   talk.politics.mideast       0.96      0.99      0.98       102\n",
      "      talk.politics.misc       0.91      0.93      0.92       107\n",
      "      talk.religion.misc       0.85      0.69      0.76        75\n",
      "\n",
      "                accuracy                           0.90      2263\n",
      "               macro avg       0.90      0.90      0.90      2263\n",
      "            weighted avg       0.91      0.90      0.90      2263\n",
      "\n"
     ]
    }
   ],
   "source": [
    "# Train a Logistic Regression model\n",
    "model = LogisticRegression(max_iter=1000)\n",
    "model.fit(X_train_text, train_labels)\n",
    "\n",
    "# Make predictions on the test set\n",
    "predictions = model.predict(X_test_text)\n",
    "\n",
    "# Evaluate the model\n",
    "accuracy = accuracy_score(test_labels, predictions)\n",
    "print(f'Model Accuracy: {accuracy * 100:.2f}%')\n",
    "\n",
    "# Print a detailed classification report\n",
    "print(classification_report(test_labels, predictions, target_names=newsgroups.target_names))\n"
   ]
  },
  {
   "cell_type": "code",
   "execution_count": 41,
   "id": "b26c32de-bea7-4522-a33c-df7c0db24acd",
   "metadata": {},
   "outputs": [],
   "source": [
    "# Function to recognize speech from microphone\n",
    "def recognize_speech():\n",
    "    recognizer = sr.Recognizer()\n",
    "    with sr.Microphone() as source:\n",
    "        print(\"Please say something...\")\n",
    "        audio = recognizer.listen(source)\n",
    "        try:\n",
    "            print(\"Recognizing...\")\n",
    "            text = recognizer.recognize_google(audio)\n",
    "            print(f\"You said: {text}\")\n",
    "            return text\n",
    "        except sr.UnknownValueError:\n",
    "            print(\"Google Web Speech API could not understand the audio.\")\n",
    "        except sr.RequestError as e:\n",
    "            print(f\"Could not request results from Google Web Speech API; {e}\")\n",
    "            return None"
   ]
  },
  {
   "cell_type": "code",
   "execution_count": 42,
   "id": "5acd7657-b558-4c84-a21a-e7f96bc84f0d",
   "metadata": {},
   "outputs": [],
   "source": [
    "# Function to get input from text or microphone and predict category\n",
    "def get_input_and_predict():\n",
    "    input_method = input(\"Do you want to input text or use the microphone? (text/mic): \").strip().lower()\n",
    "    \n",
    "    if input_method == 'text':\n",
    "        text = input(\"Please enter your text: \").strip()\n",
    "    elif input_method == 'mic':\n",
    "        text = recognize_speech()\n",
    "        if text is None:\n",
    "            print(\"Could not recognize speech. Please try again.\")\n",
    "            return\n",
    "    else:\n",
    "        print(\"Invalid input method. Please choose 'text' or 'mic'.\")\n",
    "        return\n",
    "    \n",
    "    # Preprocess the text\n",
    "    processed_text = preprocess_text(text)\n",
    "\n",
    "    # Vectorize the text\n",
    "    vectorized_text = vectorizer.transform([processed_text])\n",
    "\n",
    "    # Predict the category\n",
    "    prediction = model.predict(vectorized_text)\n",
    "    category = newsgroups.target_names[prediction[0]]\n",
    "    print(f\"Predicted Category: {category}\")"
   ]
  },
  {
   "cell_type": "code",
   "execution_count": 46,
   "id": "922ca88b-2c03-464f-be81-cdff4d303140",
   "metadata": {},
   "outputs": [
    {
     "name": "stdin",
     "output_type": "stream",
     "text": [
      "Do you want to input text or use the microphone? (text/mic):  text\n",
      "Please enter your text:  i have to go to school\n"
     ]
    },
    {
     "name": "stdout",
     "output_type": "stream",
     "text": [
      "Predicted Category: misc.forsale\n"
     ]
    }
   ],
   "source": [
    "get_input_and_predict()"
   ]
  },
  {
   "cell_type": "code",
   "execution_count": 47,
   "id": "1c2c9efd-3875-4ad0-83c6-b9e8c2df339c",
   "metadata": {},
   "outputs": [
    {
     "name": "stdin",
     "output_type": "stream",
     "text": [
      "Do you want to input text or use the microphone? (text/mic):  mic\n"
     ]
    },
    {
     "name": "stdout",
     "output_type": "stream",
     "text": [
      "Please say something...\n",
      "Recognizing...\n",
      "You said: I have meeting today\n",
      "Predicted Category: misc.forsale\n"
     ]
    }
   ],
   "source": [
    "get_input_and_predict()"
   ]
  },
  {
   "cell_type": "code",
   "execution_count": null,
   "id": "32c9fc74-4505-4822-ab53-1bfdfc2b8346",
   "metadata": {},
   "outputs": [],
   "source": []
  }
 ],
 "metadata": {
  "kernelspec": {
   "display_name": "Python 3 (ipykernel)",
   "language": "python",
   "name": "python3"
  },
  "language_info": {
   "codemirror_mode": {
    "name": "ipython",
    "version": 3
   },
   "file_extension": ".py",
   "mimetype": "text/x-python",
   "name": "python",
   "nbconvert_exporter": "python",
   "pygments_lexer": "ipython3",
   "version": "3.11.7"
  }
 },
 "nbformat": 4,
 "nbformat_minor": 5
}

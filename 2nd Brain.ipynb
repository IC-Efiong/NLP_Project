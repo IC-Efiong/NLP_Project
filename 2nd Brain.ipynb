{
 "cells": [
  {
   "cell_type": "markdown",
   "id": "6aef1822-7332-4a67-b60a-29566f9785e0",
   "metadata": {},
   "source": [
    "## Imports and Setup"
   ]
  },
  {
   "cell_type": "code",
   "execution_count": 1,
   "id": "fdb488f7-feab-480e-be9c-509e003df9c6",
   "metadata": {},
   "outputs": [
    {
     "name": "stdout",
     "output_type": "stream",
     "text": [
      "Requirement already satisfied: nltk in c:\\users\\ice\\anaconda3\\lib\\site-packages (3.8.1)\n",
      "Requirement already satisfied: click in c:\\users\\ice\\anaconda3\\lib\\site-packages (from nltk) (8.1.7)\n",
      "Requirement already satisfied: joblib in c:\\users\\ice\\anaconda3\\lib\\site-packages (from nltk) (1.4.2)\n",
      "Requirement already satisfied: regex>=2021.8.3 in c:\\users\\ice\\anaconda3\\lib\\site-packages (from nltk) (2023.10.3)\n",
      "Requirement already satisfied: tqdm in c:\\users\\ice\\anaconda3\\lib\\site-packages (from nltk) (4.66.4)\n",
      "Requirement already satisfied: colorama in c:\\users\\ice\\anaconda3\\lib\\site-packages (from click->nltk) (0.4.6)\n",
      "Collecting SpeechRecognition\n",
      "  Using cached SpeechRecognition-3.10.4-py2.py3-none-any.whl.metadata (28 kB)\n",
      "Requirement already satisfied: requests>=2.26.0 in c:\\users\\ice\\anaconda3\\lib\\site-packages (from SpeechRecognition) (2.32.2)\n",
      "Requirement already satisfied: typing-extensions in c:\\users\\ice\\anaconda3\\lib\\site-packages (from SpeechRecognition) (4.11.0)\n",
      "Requirement already satisfied: charset-normalizer<4,>=2 in c:\\users\\ice\\anaconda3\\lib\\site-packages (from requests>=2.26.0->SpeechRecognition) (2.0.4)\n",
      "Requirement already satisfied: idna<4,>=2.5 in c:\\users\\ice\\anaconda3\\lib\\site-packages (from requests>=2.26.0->SpeechRecognition) (3.7)\n",
      "Requirement already satisfied: urllib3<3,>=1.21.1 in c:\\users\\ice\\anaconda3\\lib\\site-packages (from requests>=2.26.0->SpeechRecognition) (2.2.2)\n",
      "Requirement already satisfied: certifi>=2017.4.17 in c:\\users\\ice\\anaconda3\\lib\\site-packages (from requests>=2.26.0->SpeechRecognition) (2024.6.2)\n",
      "Using cached SpeechRecognition-3.10.4-py2.py3-none-any.whl (32.8 MB)\n",
      "Installing collected packages: SpeechRecognition\n",
      "Successfully installed SpeechRecognition-3.10.4\n"
     ]
    }
   ],
   "source": [
    "!pip install nltk\n",
    "!pip install SpeechRecognition"
   ]
  },
  {
   "cell_type": "code",
   "execution_count": 2,
   "id": "68d99b97-864d-47e5-8412-d3e069ed858b",
   "metadata": {},
   "outputs": [
    {
     "name": "stderr",
     "output_type": "stream",
     "text": [
      "[nltk_data] Downloading package stopwords to\n",
      "[nltk_data]     C:\\Users\\ICE\\AppData\\Roaming\\nltk_data...\n",
      "[nltk_data]   Package stopwords is already up-to-date!\n",
      "[nltk_data] Downloading package wordnet to\n",
      "[nltk_data]     C:\\Users\\ICE\\AppData\\Roaming\\nltk_data...\n",
      "[nltk_data]   Package wordnet is already up-to-date!\n"
     ]
    }
   ],
   "source": [
    "#import speech_recognition as sr\n",
    "import pandas as pd\n",
    "from sklearn.feature_extraction.text import TfidfVectorizer\n",
    "from sklearn.cluster import KMeans\n",
    "import re\n",
    "import nltk\n",
    "from nltk.corpus import stopwords\n",
    "from nltk.stem import WordNetLemmatizer\n",
    "\n",
    "#Download necessary NLTK data\n",
    "nltk.download('stopwords')\n",
    "nltk.download('wordnet')\n",
    "\n",
    "#Intialize necessary components\n",
    "stop_words = set(stopwords.words('english'))\n",
    "lemmatizer = WordNetLemmatizer()\n",
    "\n"
   ]
  },
  {
   "cell_type": "markdown",
   "id": "eba1e395-7f06-4781-b5b4-15dbe224bb4b",
   "metadata": {},
   "source": [
    "## Collecting and Storing Ideas"
   ]
  },
  {
   "cell_type": "code",
   "execution_count": 3,
   "id": "ccb0415f-d078-4f25-807d-cde5a2e697da",
   "metadata": {},
   "outputs": [],
   "source": [
    "#Fucntion to preprocess text\n",
    "def preprocess_text(text):\n",
    "    text = text.lower()\n",
    "    text = re.sub(r'[^a-zA-Z\\s]', '', text)  # Remove non-alphabetic characters\n",
    "    text = re.sub(r'\\s+', ' ', text).strip()  # Replace multiple spaces with a single space\n",
    "    tokens = text.split()\n",
    "    tokens = [lemmatizer.lemmatize(token) for token in tokens if token not in stop_words]\n",
    "    return ' '.join(tokens)  # Use space to join tokens"
   ]
  },
  {
   "cell_type": "code",
   "execution_count": 4,
   "id": "abb69d97-e844-419a-bcb9-f64088d99c6f",
   "metadata": {},
   "outputs": [],
   "source": [
    "#Text Input Collection\n",
    "def collect_text_input():\n",
    "    idea = input(\"Please enter your idea: \")\n",
    "    return idea"
   ]
  },
  {
   "cell_type": "code",
   "execution_count": 5,
   "id": "e66406a8-c5b2-47bd-a62a-a9600aebb10b",
   "metadata": {},
   "outputs": [],
   "source": [
    "#Speech Input Collecction\n",
    "def collect_speech_input():\n",
    "    recognizer = sr.Recognizer()\n",
    "    with sr.Microphone() as source:\n",
    "        print(\"Please say something...\")\n",
    "        audio = recognizer.listen(source)\n",
    "        try:\n",
    "            idea = recognizer.recognize_google(audio)\n",
    "            print(f\"You said: {idea}\")\n",
    "            return idea\n",
    "        except sr.UnknownValueError:\n",
    "            print(\"Could not undertand audio\")\n",
    "            return none\n",
    "        except sr.RequestError:\n",
    "            print(\"Could not request results\")\n",
    "            return none"
   ]
  },
  {
   "cell_type": "code",
   "execution_count": 6,
   "id": "c9228fdf-276f-4540-9cd7-d1c23faf3484",
   "metadata": {},
   "outputs": [],
   "source": [
    "#Storing Ideas in Memory\n",
    "ideas = []\n",
    "\n",
    "def store_idea(idea):\n",
    "    ideas.append(idea)"
   ]
  },
  {
   "cell_type": "markdown",
   "id": "a635806e-a75e-4f9a-9df7-a9dce3516219",
   "metadata": {},
   "source": [
    "## Clustering Ideas"
   ]
  },
  {
   "cell_type": "code",
   "execution_count": 7,
   "id": "713ed091-d70c-4b44-8d10-a8a16a64b806",
   "metadata": {},
   "outputs": [],
   "source": [
    "def group_ideas(idea, n_clusters=5):\n",
    "    vectorizer = TfidfVectorizer()\n",
    "    X = vectorizer.fit_transform(ideas)\n",
    "    kmeans = KMeans(n_clusters=n_clusters)\n",
    "    kmeans.fit(X)\n",
    "    labels = kmeans.labels_\n",
    "    grouped_idea = {}\n",
    "    for i, label in enumerate(labels):\n",
    "        if label not in grouped_idea:\n",
    "            grouped_idea[label] = []\n",
    "        grouped_idea[label].append(ideas[i])\n",
    "    return grouped_idea"
   ]
  },
  {
   "cell_type": "markdown",
   "id": "707c7dac-0b57-44f8-bf4f-090c93ad624e",
   "metadata": {},
   "source": [
    "## Displaying Grouped Ideas"
   ]
  },
  {
   "cell_type": "code",
   "execution_count": 8,
   "id": "af53792d-724e-4ffc-8e83-f70731856614",
   "metadata": {},
   "outputs": [],
   "source": [
    "def display_grouped_ideas(grouped_ideas):\n",
    "    for label, group in grouped_ideas.items():\n",
    "        print(f\"Group {label}:\")\n",
    "        for idea in group:\n",
    "            print (f\" - {idea}\")\n",
    "        print(\"\\n\")"
   ]
  },
  {
   "cell_type": "markdown",
   "id": "13cfd910-f457-4607-85fb-5e83794f914b",
   "metadata": {},
   "source": [
    "## Reassigning Ideas"
   ]
  },
  {
   "cell_type": "code",
   "execution_count": 9,
   "id": "5e40b352-e679-4b77-a7a4-940755f1f043",
   "metadata": {},
   "outputs": [],
   "source": [
    "def reassign_idea(grouped_ideas):\n",
    "    while True:\n",
    "        prompt = input(\"Do you want to reassign any ideas? (yes/no): \").strip().lower()\n",
    "        if prompt == 'yes':\n",
    "            try:\n",
    "                # Display current groups\n",
    "                display_grouped_ideas(grouped_ideas)\n",
    "                \n",
    "                # Get user input for reassignment\n",
    "                idea_to_move = input(\"Enter the idea you want to move: \")\n",
    "                from_group = int(input(\"Enter the current group number of the idea: \"))\n",
    "                to_group = int(input(\"Enter the new group number for the idea: \"))\n",
    "                \n",
    "                # Validate input\n",
    "                if from_group in grouped_ideas and to_group in grouped_ideas:\n",
    "                    if idea_to_move in grouped_ideas[from_group]:\n",
    "                        # Remove idea from the current group and add to the new group\n",
    "                        grouped_ideas[from_group].remove(idea_to_move)\n",
    "                        grouped_ideas[to_group].append(idea_to_move)\n",
    "                        print(\"Idea reassigned successfully.\")\n",
    "                    else:\n",
    "                        print(\"Idea not found in the specified group.\")\n",
    "                else:\n",
    "                    print(\"Invalid group number.\")\n",
    "            except ValueError:\n",
    "                print(\"Invalid input. Please enter valid numbers.\")\n",
    "            \n",
    "            another = input(\"Do you want to reassign another idea? (yes/no): \").strip().lower()\n",
    "            if another != 'yes':\n",
    "                break\n",
    "        elif prompt == 'no':\n",
    "            break\n",
    "        else:\n",
    "            print(\"Invalid input. Please enter 'yes' or 'no'.\")\n"
   ]
  },
  {
   "cell_type": "markdown",
   "id": "871f889e-e327-45e7-a23f-9c43860f4979",
   "metadata": {},
   "source": [
    "## Main Interaction Loop with Exmpale Ideas"
   ]
  },
  {
   "cell_type": "code",
   "execution_count": 19,
   "id": "7f99cad5-c98b-45ac-b3de-73f03b714422",
   "metadata": {},
   "outputs": [],
   "source": [
    "def main():\n",
    "    while True:\n",
    "        mode = input(\"Do you want to input text, use the microphone, or exit? (text/mic/exit): \")\n",
    "        if mode == 'text':\n",
    "            idea = collect_text_input()\n",
    "        elif mode == 'mic':\n",
    "            idea = collect_speech_input()\n",
    "        elif mode == 'exit':\n",
    "            break\n",
    "        else:\n",
    "            print(\"Invalid input method. Please choose 'text', 'mic', or 'exit'.\")\n",
    "            continue\n",
    "        if idea:\n",
    "            preprocessed_idea = preprocess_text(idea)\n",
    "            store_idea(preprocessed_idea)\n",
    "            print(\"Idea stored.\")\n",
    "\n",
    "    #After collecting ideas, group them\n",
    "    grouped_ideas = group_ideas(ideas)\n",
    "\n",
    "    #Display grouped ideas\n",
    "    display_grouped_ideas(grouped_ideas)\n",
    "\n",
    "    # Allow user to reassign ideas\n",
    "    reassign_idea(grouped_ideas)\n",
    "    \n",
    "    # Display final grouped ideas\n",
    "    display_grouped_ideas(grouped_ideas)\n",
    "\n",
    "#if __name__ == \"__main__\":\n",
    "    #main()\n"
   ]
  },
  {
   "cell_type": "markdown",
   "id": "372b6271-6f14-4ce8-aa75-4fc3858fb2cd",
   "metadata": {},
   "source": [
    "## Testing the Code"
   ]
  },
  {
   "cell_type": "code",
   "execution_count": 10,
   "id": "97855d6a-8de3-4e6c-acb5-9d3a7c44bcdd",
   "metadata": {},
   "outputs": [
    {
     "name": "stdout",
     "output_type": "stream",
     "text": [
      "Group 3:\n",
      " - need buy grocery tomorrow\n",
      "\n",
      "\n",
      "Group 2:\n",
      " - plan meeting project team\n",
      "\n",
      "\n",
      "Group 0:\n",
      " - read new book ai advancement\n",
      "\n",
      "\n",
      "Group 4:\n",
      " - schedule doctor appointment\n",
      "\n",
      "\n",
      "Group 1:\n",
      " - organize file computer\n",
      "\n",
      "\n"
     ]
    }
   ],
   "source": [
    "# Test the entire functionality with some example inputs\n",
    "\n",
    "# Initialize the ideas list\n",
    "ideas = []\n",
    "\n",
    "# Example ideas to simulate user input\n",
    "example_ideas = [\n",
    "    \"I need to buy groceries tomorrow.\",\n",
    "    \"Plan the meeting with the project team.\",\n",
    "    \"Read the new book on AI advancements.\",\n",
    "    \"Schedule a doctor's appointment.\",\n",
    "    \"Organize the files on my computer.\"\n",
    "]\n",
    "\n",
    "# Preprocess and store example ideas\n",
    "for idea in example_ideas:\n",
    "    preprocessed_idea = preprocess_text(idea)\n",
    "    store_idea(preprocessed_idea)\n",
    "\n",
    "# Group and display the stored ideas\n",
    "grouped_ideas = group_ideas(ideas)\n",
    "display_grouped_ideas(grouped_ideas)"
   ]
  },
  {
   "cell_type": "code",
   "execution_count": 12,
   "id": "0800156e-76ff-4b8f-bfd7-4cf589d280df",
   "metadata": {},
   "outputs": [
    {
     "name": "stdout",
     "output_type": "stream",
     "text": [
      "Group 0:\n",
      " - need buy grocery tomorrow\n",
      " - read new book ai advancement\n",
      " - purchase fruit vegetable\n",
      " - purchase orange\n",
      "\n",
      "\n",
      "Group 1:\n",
      " - plan meeting project team\n",
      " - team meeting discus project progress\n",
      "\n",
      "\n",
      "Group 2:\n",
      " - schedule doctor appointment\n",
      " - appointment cardiologist\n",
      "\n",
      "\n",
      "Group 3:\n",
      " - organize file computer\n",
      "\n",
      "\n",
      "Group 4:\n",
      " - sort categorize digital document\n",
      "\n",
      "\n"
     ]
    }
   ],
   "source": [
    "# Test the entire functionality with some example inputs\n",
    "\n",
    "# Initialize the ideas list\n",
    "ideas = []\n",
    "\n",
    "# Example ideas to simulate user input\n",
    "example_ideas = [\n",
    "    \"I need to buy groceries tomorrow.\",\n",
    "    \"Plan the meeting with the project team.\",\n",
    "    \"Read the new book on AI advancements.\",\n",
    "    \"Schedule a doctor's appointment.\",\n",
    "    \"Organize the files on my computer.\",\n",
    "    \"Purchase fruits and vegetables.\",\n",
    "    \"Team meeting to discuss project progress.\",\n",
    "    \"Appointment with the cardiologist.\",\n",
    "    \"Sort and categorize digital documents.\",\n",
    "    \"Purchase some oranges.\"\n",
    "]\n",
    "\n",
    "# Preprocess and store example ideas\n",
    "for idea in example_ideas:\n",
    "    preprocessed_idea = preprocess_text(idea)\n",
    "    store_idea(preprocessed_idea)\n",
    "\n",
    "# Group and display the stored ideas\n",
    "grouped_ideas = group_ideas(ideas)\n",
    "display_grouped_ideas(grouped_ideas)\n",
    "\n",
    "# Allow user to reassign ideas\n",
    "#reassign_idea(grouped_ideas)\n",
    "\n",
    "# Display final grouped ideas\n",
    "#display_grouped_ideas(grouped_ideas)"
   ]
  },
  {
   "cell_type": "code",
   "execution_count": null,
   "id": "bfe6ea72-7907-4dad-8cd5-12e2eaaffea8",
   "metadata": {},
   "outputs": [],
   "source": []
  }
 ],
 "metadata": {
  "kernelspec": {
   "display_name": "Python 3 (ipykernel)",
   "language": "python",
   "name": "python3"
  },
  "language_info": {
   "codemirror_mode": {
    "name": "ipython",
    "version": 3
   },
   "file_extension": ".py",
   "mimetype": "text/x-python",
   "name": "python",
   "nbconvert_exporter": "python",
   "pygments_lexer": "ipython3",
   "version": "3.12.4"
  }
 },
 "nbformat": 4,
 "nbformat_minor": 5
}
